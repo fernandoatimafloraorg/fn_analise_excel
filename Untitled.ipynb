{
 "cells": [
  {
   "cell_type": "code",
   "execution_count": 1,
   "metadata": {},
   "outputs": [],
   "source": [
    "import os\n",
    "import sys\n",
    "\n",
    "import pandas as pd\n",
    "\n",
    "import xlsxwriter\n",
    "\n",
    "#import numpy as np"
   ]
  },
  {
   "cell_type": "code",
   "execution_count": null,
   "metadata": {},
   "outputs": [],
   "source": [
    "!pip install openpyxl\n",
    "!pip install xlsxwriter"
   ]
  },
  {
   "cell_type": "code",
   "execution_count": 2,
   "metadata": {},
   "outputs": [],
   "source": [
    "def xls_analysis(file, sheet, parsed_cols):\n",
    "    try:\n",
    "        print(\"Iniciando análise de \"+file)\n",
    "        # open the file\n",
    "        if 'xls'in file:\n",
    "            try:\n",
    "                df_analysis = pd.read_excel(file, sheet_name=sheet, index_col=0, usecols=parsed_cols)\n",
    "                return df_analysis\n",
    "            except Exception as erro:\n",
    "                print(\"Erro \"+str(erro))\n",
    "                print(\"Abortando analise \"+file+\"\\n\")\n",
    "                return(-1)\n",
    "        else:\n",
    "            print(\"Erro identificando xls/csv\")\n",
    "            return(-1)\n",
    "    except Exception as erro:\n",
    "        print(\"deu ruim\")\n",
    "        return(-1)"
   ]
  },
  {
   "cell_type": "markdown",
   "metadata": {},
   "source": [
    "<h2>\n",
    "    Exercício:</h2>\n",
    "Contratos Comprador\t Soma de Peso \tQuem chegou?\t Qto Enviei? \tResultado\tDiferença\n"
   ]
  },
  {
   "cell_type": "code",
   "execution_count": 3,
   "metadata": {},
   "outputs": [],
   "source": [
    "parsed_cols = 'A:B, D, H, M'\n",
    "datain = '.\\data_in_fornecedor'\n",
    "dataout = '.\\data.out'\n",
    "newfile_supplier = dataout + '\\combinado.xlsx'\n",
    "planilhain = 'Allocation'\n"
   ]
  },
  {
   "cell_type": "code",
   "execution_count": 4,
   "metadata": {},
   "outputs": [
    {
     "name": "stdout",
     "output_type": "stream",
     "text": [
      "Procurando arquivos em .\\data_in_fornecedor\n",
      "Arquivos tipos xls   6\n",
      "Total                6\n",
      "\n"
     ]
    }
   ],
   "source": [
    "#lendo a estrutura de arquivos\n",
    "\n",
    "files = os.listdir(datain)\n",
    "\n",
    "dfx = [i for i in files if 'XLS' in i.upper()] \n",
    "filesToWorkOn = dfx\n",
    "\n",
    "print(\"Procurando arquivos em \"+datain)\n",
    "print(\"Arquivos tipos xls \"+'{:3d}'.format(len(dfx)))\n",
    "print(\"Total              \"+'{:3d}'.format(len(filesToWorkOn))+\"\\n\")\n",
    "\n",
    "del dfx, files\n",
    "filesToWorkOn = sorted(filesToWorkOn) \n"
   ]
  },
  {
   "cell_type": "code",
   "execution_count": null,
   "metadata": {},
   "outputs": [],
   "source": []
  },
  {
   "cell_type": "code",
   "execution_count": 5,
   "metadata": {},
   "outputs": [
    {
     "name": "stdout",
     "output_type": "stream",
     "text": [
      "Iniciando análise de .\\data_in_fornecedor/Traceability Template V3_Alto Paranaíba.xlsm\n",
      "Iniciando análise de .\\data_in_fornecedor/Traceability Template V3_Carmo de MInas.xlsm\n",
      "Iniciando análise de .\\data_in_fornecedor/Traceability Template V3_Cooxupé.xlsm\n",
      "Iniciando análise de .\\data_in_fornecedor/Traceability Template V3_Stockler.xlsm\n",
      "Iniciando análise de .\\data_in_fornecedor/Traceability Template V3_Vale da Grama.xlsm\n",
      "Iniciando análise de .\\data_in_fornecedor/traceability Template Stockler_new_fev_2020.xlsm\n",
      "Terminado\n"
     ]
    }
   ],
   "source": [
    "all_df = pd.DataFrame()\n",
    "for name in filesToWorkOn:\n",
    "    df = xls_analysis(datain+\"/\"+name, planilhain,parsed_cols)\n",
    "    all_df = all_df.append(df, sort=True)\n",
    "print('Terminado')"
   ]
  },
  {
   "cell_type": "markdown",
   "metadata": {},
   "source": [
    "<h3>Agregando os dados</h3>"
   ]
  },
  {
   "cell_type": "code",
   "execution_count": 6,
   "metadata": {},
   "outputs": [],
   "source": [
    "all_df_agg = all_df.groupby(['Cluster','SAP Contract number'], as_index=False)['Quantity Processed'].sum()\n"
   ]
  },
  {
   "cell_type": "code",
   "execution_count": 7,
   "metadata": {},
   "outputs": [],
   "source": [
    "#all_df.to_excel(newfile_supplier, sheet_name='combined', index=False)\n",
    "#print('Terminada a gravação')\n",
    "all_df_agg = all_df_agg.set_index('Cluster')"
   ]
  },
  {
   "cell_type": "markdown",
   "metadata": {},
   "source": [
    "<h2>Exercício 2</h2>"
   ]
  },
  {
   "cell_type": "code",
   "execution_count": 12,
   "metadata": {},
   "outputs": [],
   "source": [
    "#parsed_cols_shipments\n",
    "parsed_cols = 'A,B,G,S,N'\n",
    "datain_shipments = '.\\data_in_comprador'\n",
    "dataout = '.\\data.out'\n",
    "planilhain2 = 'Planilha1'"
   ]
  },
  {
   "cell_type": "code",
   "execution_count": 13,
   "metadata": {},
   "outputs": [
    {
     "name": "stdout",
     "output_type": "stream",
     "text": [
      "Procurando arquivos em .\\data_in_comprador\n",
      "Arquivos tipos xls   1\n",
      "Total                1\n",
      "\n"
     ]
    }
   ],
   "source": [
    "\n",
    "#lendo a estrutura de arquivos\n",
    "\n",
    "files2 = os.listdir(datain_shipments)\n",
    "\n",
    "dfx2 = [i for i in files2 if 'XLS' in i.upper()] \n",
    "filesToWorkOn2 = dfx2\n",
    "\n",
    "print(\"Procurando arquivos em \"+datain_shipments)\n",
    "print(\"Arquivos tipos xls \"+'{:3d}'.format(len(dfx2)))\n",
    "print(\"Total              \"+'{:3d}'.format(len(filesToWorkOn2))+\"\\n\")\n",
    "\n",
    "del dfx2, files2\n",
    "filesToWorkOn2 = sorted(filesToWorkOn2) \n",
    "\n",
    "#print(filesToWorkOn)"
   ]
  },
  {
   "cell_type": "code",
   "execution_count": 14,
   "metadata": {},
   "outputs": [
    {
     "name": "stdout",
     "output_type": "stream",
     "text": [
      "Iniciando análise de .\\data_in_comprador/Shipments 2020.xlsx\n",
      "Terminado\n"
     ]
    }
   ],
   "source": [
    "df_shipments = pd.DataFrame()\n",
    "for name in filesToWorkOn2:\n",
    "    df = xls_analysis(datain_shipments+\"/\"+name, planilhain2,parsed_cols)\n",
    "    df_shipments = df_shipments.append(df, sort=True)\n",
    "    \n",
    "print('Terminado')"
   ]
  },
  {
   "cell_type": "code",
   "execution_count": 15,
   "metadata": {},
   "outputs": [],
   "source": [
    "# agregação\n",
    "df_shipments_agg = df_shipments.groupby(['AAA\\nCLUSTER','SAP'], as_index=False)['WEIGHT'].sum()\n"
   ]
  },
  {
   "cell_type": "code",
   "execution_count": null,
   "metadata": {},
   "outputs": [],
   "source": []
  },
  {
   "cell_type": "code",
   "execution_count": 16,
   "metadata": {},
   "outputs": [
    {
     "data": {
      "text/html": [
       "<div>\n",
       "<style scoped>\n",
       "    .dataframe tbody tr th:only-of-type {\n",
       "        vertical-align: middle;\n",
       "    }\n",
       "\n",
       "    .dataframe tbody tr th {\n",
       "        vertical-align: top;\n",
       "    }\n",
       "\n",
       "    .dataframe thead th {\n",
       "        text-align: right;\n",
       "    }\n",
       "</style>\n",
       "<table border=\"1\" class=\"dataframe\">\n",
       "  <thead>\n",
       "    <tr style=\"text-align: right;\">\n",
       "      <th></th>\n",
       "      <th>SAP</th>\n",
       "      <th>WEIGHT</th>\n",
       "      <th>Quem chegou?</th>\n",
       "      <th>Qto Enviei?</th>\n",
       "      <th>Resultado</th>\n",
       "      <th>Diferença</th>\n",
       "    </tr>\n",
       "    <tr>\n",
       "      <th>AAA\n",
       "CLUSTER</th>\n",
       "      <th></th>\n",
       "      <th></th>\n",
       "      <th></th>\n",
       "      <th></th>\n",
       "      <th></th>\n",
       "      <th></th>\n",
       "    </tr>\n",
       "  </thead>\n",
       "  <tbody>\n",
       "    <tr>\n",
       "      <th>Alto Paranaiba</th>\n",
       "      <td>4615446560</td>\n",
       "      <td>192000</td>\n",
       "      <td>\"=PROCV(B2;agg_supplier!$B$2:$C$900;1;FALSO)</td>\n",
       "      <td>\"=PROCV(B2;agg_supplier!$B$2:$C$900;2;FALSO)</td>\n",
       "      <td>=C2/E2</td>\n",
       "      <td>=E2-C2</td>\n",
       "    </tr>\n",
       "    <tr>\n",
       "      <th>Alto Paranaiba</th>\n",
       "      <td>4615448224</td>\n",
       "      <td>57600</td>\n",
       "      <td>NaN</td>\n",
       "      <td>NaN</td>\n",
       "      <td>NaN</td>\n",
       "      <td>NaN</td>\n",
       "    </tr>\n",
       "    <tr>\n",
       "      <th>Alto Paranaiba</th>\n",
       "      <td>4615448672</td>\n",
       "      <td>96000</td>\n",
       "      <td>NaN</td>\n",
       "      <td>NaN</td>\n",
       "      <td>NaN</td>\n",
       "      <td>NaN</td>\n",
       "    </tr>\n",
       "    <tr>\n",
       "      <th>Alto Paranaiba</th>\n",
       "      <td>4615452877</td>\n",
       "      <td>231000</td>\n",
       "      <td>NaN</td>\n",
       "      <td>NaN</td>\n",
       "      <td>NaN</td>\n",
       "      <td>NaN</td>\n",
       "    </tr>\n",
       "    <tr>\n",
       "      <th>Alto Paranaiba</th>\n",
       "      <td>4615453338</td>\n",
       "      <td>230400</td>\n",
       "      <td>NaN</td>\n",
       "      <td>NaN</td>\n",
       "      <td>NaN</td>\n",
       "      <td>NaN</td>\n",
       "    </tr>\n",
       "  </tbody>\n",
       "</table>\n",
       "</div>"
      ],
      "text/plain": [
       "                       SAP  WEIGHT  \\\n",
       "AAA\\nCLUSTER                         \n",
       "Alto Paranaiba  4615446560  192000   \n",
       "Alto Paranaiba  4615448224   57600   \n",
       "Alto Paranaiba  4615448672   96000   \n",
       "Alto Paranaiba  4615452877  231000   \n",
       "Alto Paranaiba  4615453338  230400   \n",
       "\n",
       "                                                Quem chegou?  \\\n",
       "AAA\\nCLUSTER                                                   \n",
       "Alto Paranaiba  \"=PROCV(B2;agg_supplier!$B$2:$C$900;1;FALSO)   \n",
       "Alto Paranaiba                                           NaN   \n",
       "Alto Paranaiba                                           NaN   \n",
       "Alto Paranaiba                                           NaN   \n",
       "Alto Paranaiba                                           NaN   \n",
       "\n",
       "                                                 Qto Enviei? Resultado  \\\n",
       "AAA\\nCLUSTER                                                             \n",
       "Alto Paranaiba  \"=PROCV(B2;agg_supplier!$B$2:$C$900;2;FALSO)    =C2/E2   \n",
       "Alto Paranaiba                                           NaN       NaN   \n",
       "Alto Paranaiba                                           NaN       NaN   \n",
       "Alto Paranaiba                                           NaN       NaN   \n",
       "Alto Paranaiba                                           NaN       NaN   \n",
       "\n",
       "               Diferença  \n",
       "AAA\\nCLUSTER              \n",
       "Alto Paranaiba    =E2-C2  \n",
       "Alto Paranaiba       NaN  \n",
       "Alto Paranaiba       NaN  \n",
       "Alto Paranaiba       NaN  \n",
       "Alto Paranaiba       NaN  "
      ]
     },
     "execution_count": 16,
     "metadata": {},
     "output_type": "execute_result"
    }
   ],
   "source": [
    "#sLength = df_shipments_agg.count()\n",
    "\n",
    "#df_shipments_agg['Quem chegou?'] = pd.Series(np.random.randn(sLength), index=df_shipments_agg.index)\n",
    "#df_shipments_agg = df_shipments_agg.assign(Marks = [10,20, 45, 33, 22, 11],  Total = [50]*6  )\n",
    "\n",
    "#df_shipments_agg['Quem chegou?']=['=PROCV(B2;agg_supplier!$B$2:$C$140;1;FALSO)']\n",
    "\n",
    "df_shipments_agg['Quem chegou?'] = pd.Series(['\"=PROCV(B2;agg_supplier!$B$2:$C$900;1;FALSO)'])\n",
    "df_shipments_agg['Qto Enviei?'] = pd.Series(['\"=PROCV(B2;agg_supplier!$B$2:$C$900;2;FALSO)'])\n",
    "df_shipments_agg['Resultado'] = pd.Series(['=C2/E2']) \n",
    "df_shipments_agg['Diferença'] = pd.Series(['=E2-C2']) \n",
    "\n",
    "df_shipments_agg = df_shipments_agg.set_index('AAA\\nCLUSTER')\n",
    "df_shipments_agg.head()"
   ]
  },
  {
   "cell_type": "markdown",
   "metadata": {},
   "source": [
    "\n",
    "<h2> Gravação das planilhas agregadas num único arquivo</h2>\n"
   ]
  },
  {
   "cell_type": "code",
   "execution_count": 17,
   "metadata": {},
   "outputs": [
    {
     "name": "stdout",
     "output_type": "stream",
     "text": [
      "Terminada a gravação\n"
     ]
    }
   ],
   "source": [
    "path = dataout + '/aggregate.xlsx'\n",
    "\n",
    "writer = pd.ExcelWriter(path, engine = 'xlsxwriter')\n",
    "all_df_agg.to_excel(writer, sheet_name='agg_supplier', index=True)\n",
    "df_shipments_agg.to_excel(writer, sheet_name = 'agg_shipments')\n",
    "writer.save()\n",
    "writer.close()\n",
    "\n",
    "print('Terminada a gravação')"
   ]
  },
  {
   "cell_type": "code",
   "execution_count": null,
   "metadata": {},
   "outputs": [],
   "source": []
  }
 ],
 "metadata": {
  "kernelspec": {
   "display_name": "Python 3",
   "language": "python",
   "name": "python3"
  },
  "language_info": {
   "codemirror_mode": {
    "name": "ipython",
    "version": 3
   },
   "file_extension": ".py",
   "mimetype": "text/x-python",
   "name": "python",
   "nbconvert_exporter": "python",
   "pygments_lexer": "ipython3",
   "version": "3.7.3"
  }
 },
 "nbformat": 4,
 "nbformat_minor": 4
}
