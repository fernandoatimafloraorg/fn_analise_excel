{
 "cells": [
  {
   "cell_type": "markdown",
   "metadata": {},
   "source": [
    "XLS Reader - Delivery Contract"
   ]
  },
  {
   "cell_type": "code",
   "execution_count": 3,
   "metadata": {},
   "outputs": [],
   "source": [
    "\n",
    "#Parâmetros\n",
    "datain    = \".\\data_in_fornecedor\"    #coloque aqui seus arquivos xls ou csv\n",
    "dataout   = \".\\data.out\"   #onde analisador vai gravar os resultados\n",
    "datalog   = \".\\data.log\"   #onde o analisador vai gravar os logs do processamento \n",
    "datatmp   = \".\\data.tmp\"   #arquivos temporários. Será limpo após o processamento\n",
    "\n",
    "max_freq  = 10            #numeros de categorias máximas nos campos texto\n"
   ]
  },
  {
   "cell_type": "code",
   "execution_count": 4,
   "metadata": {},
   "outputs": [],
   "source": [
    "import os\n",
    "import sys\n",
    "import numpy as np\n",
    "import requests\n",
    "import pandas as pd\n",
    "from pandas import ExcelFile \n",
    "from datetime import datetime\n",
    "from datetime import timedelta\n",
    "import time, socket\n",
    "import locale\n",
    "locale.setlocale(locale.LC_ALL, 'en_US.UTF-8')  # Use '' for auto, or force e.g. to 'en_US.UTF-8'\n",
    "import seaborn as sns\n",
    "import matplotlib.pyplot as plt"
   ]
  },
  {
   "cell_type": "code",
   "execution_count": 5,
   "metadata": {},
   "outputs": [
    {
     "name": "stdout",
     "output_type": "stream",
     "text": [
      "XLS Reader Starting\n"
     ]
    }
   ],
   "source": [
    "#Criando diretórios se inexistentes\n",
    "print(\"XLS Reader Starting\")\n",
    "if not os.path.exists(datatmp):\n",
    "    print(\"diretório \"+datatmp+\" criado\")\n",
    "    os.makedirs(datatmp)\n",
    "if not os.path.exists(dataout):\n",
    "    print(\"diretório \"+dataout+\" criado\")\n",
    "    os.makedirs(dataout)\n",
    "if not os.path.exists(datalog):\n",
    "    print(\"diretório \"+datalog+\" criado\")\n",
    "    os.makedirs(datalog)\n",
    "    \n",
    "if not os.path.exists(datain):\n",
    "    print(\"diretório \"+datain+\" não existe\")\n",
    "    quit()\n",
    "    "
   ]
  },
  {
   "cell_type": "code",
   "execution_count": 6,
   "metadata": {},
   "outputs": [],
   "source": [
    "def repeat_to_length(string_to_expand, length):\n",
    "    return (string_to_expand * (int(length/len(string_to_expand))+1))[:length]\n",
    "    \n",
    "def log_start(log_file_open, message):\n",
    "    tmp_computer_name = socket.gethostname()\n",
    "    global log_file ; global log_count; global LogElap; global LogElap_FULL \n",
    "    log_file = open(datalog+\"/\"+log_file_open,\"w+\")\n",
    "    log_count = 1  \n",
    "    now = datetime.now()  \n",
    "    LogElap = time.time()\n",
    "    LogElap_FULL = time.time()\n",
    "    log_file.write(\"**LOG \"+FC_Auto_Analyser_Version+\"** \\n\") \n",
    "    log_file.write(repeat_to_length(\"-\",80) + \"\\n\")\n",
    "    log_file.write(message  + \"\\n\")\n",
    "    log_file.write(repeat_to_length(\"-\",80) + \"\\n\")\n",
    "    log_file.write(os.getcwd() + \"\\n\")\n",
    "    log_file.write(log_file_open + \"\\n\" + \"Running on \" + tmp_computer_name.upper() + \" \\n\")\n",
    "    log_file.write(repeat_to_length(\"-\",80) + \"\\n\")\n",
    "    log_file.write('{:4d}'.format(log_count) + \"  \" + now.strftime(\"%d/%m/%Y %H:%M:%S\") +\n",
    "                  \"     <<<<< Log start >>>>> \\n\\n\")\n",
    "    \n",
    "def log_write(log_message, tela = 0):\n",
    "    global log_count; global LogElap\n",
    "    now = datetime.now()\n",
    "    log_count = log_count + 1\n",
    "    if tela == 1:\n",
    "        print('{:4d}'.format(log_count) + \"  \" + now.strftime(\"%d/%m/%Y %H:%M:%S\") + \n",
    "              \"    \" + log_message + \"\\n\")\n",
    "    log_file.write('{:4d}'.format(log_count) + \"  \" + now.strftime(\"%d/%m/%Y %H:%M:%S\") + \n",
    "              \"     \" + log_message + \"\\n\")\n",
    "\n",
    "    \n",
    "    LogElap = time.time()\n",
    "    \n",
    "def log_close(send_email = False):\n",
    "    global log_count\n",
    "    now = datetime.now()\n",
    "    log_count = log_count + 1\n",
    "    log_file.write(\"\\n\" + '{:4d}'.format(log_count) + \"  \" + now.strftime(\"%d/%m/%Y %H:%M:%S\") +\n",
    "                  \"     <<<<< Log end >>>>> \\n\")\n",
    "    log_file.write(repeat_to_length(\"-\",80) + \"\\n\")\n",
    "    log_file.write(\"Running time total:  \" + convert(time.time() - LogElap_FULL) + \"\\n\")\n",
    "    log_file.write(repeat_to_length(\"-\",80) + \"\\n\")\n",
    "    log_file.write(\"**END\\n\")\n",
    "\n",
    "    log_file.close() \n",
    "    return(0)\n",
    "\n",
    "def convert(seconds): \n",
    "    seconds = seconds % (24 * 3600) \n",
    "    hour = seconds // 3600\n",
    "    seconds %= 3600\n",
    "    minutes = seconds // 60\n",
    "    seconds %= 60\n",
    "    return \"%00d:%02d:%02d\" % (hour, minutes, seconds) "
   ]
  },
  {
   "cell_type": "code",
   "execution_count": 7,
   "metadata": {},
   "outputs": [
    {
     "ename": "NameError",
     "evalue": "name 'FC_Auto_Analyser_Version' is not defined",
     "output_type": "error",
     "traceback": [
      "\u001b[1;31m---------------------------------------------------------------------------\u001b[0m",
      "\u001b[1;31mNameError\u001b[0m                                 Traceback (most recent call last)",
      "\u001b[1;32m<ipython-input-7-50c07e9d0bd1>\u001b[0m in \u001b[0;36m<module>\u001b[1;34m()\u001b[0m\n\u001b[0;32m      3\u001b[0m \u001b[0mWorkOn\u001b[0m \u001b[1;33m=\u001b[0m \u001b[1;34m'XLS_Reader_'\u001b[0m\u001b[1;33m+\u001b[0m\u001b[0mdatetime\u001b[0m\u001b[1;33m.\u001b[0m\u001b[0mnow\u001b[0m\u001b[1;33m(\u001b[0m\u001b[1;33m)\u001b[0m\u001b[1;33m.\u001b[0m\u001b[0mstrftime\u001b[0m\u001b[1;33m(\u001b[0m\u001b[1;34m\"%m%d_%H%M%S\"\u001b[0m\u001b[1;33m)\u001b[0m\u001b[1;33m\u001b[0m\u001b[1;33m\u001b[0m\u001b[0m\n\u001b[0;32m      4\u001b[0m \u001b[0mmain_log_file\u001b[0m \u001b[1;33m=\u001b[0m \u001b[0mWorkOn\u001b[0m\u001b[1;33m+\u001b[0m\u001b[1;34m\".log\"\u001b[0m\u001b[1;33m\u001b[0m\u001b[1;33m\u001b[0m\u001b[0m\n\u001b[1;32m----> 5\u001b[1;33m \u001b[0mlog_start\u001b[0m\u001b[1;33m(\u001b[0m\u001b[0mmain_log_file\u001b[0m\u001b[1;33m,\u001b[0m\u001b[1;34m\"Análise automática de arquivos de dados\"\u001b[0m\u001b[1;33m)\u001b[0m\u001b[1;33m\u001b[0m\u001b[1;33m\u001b[0m\u001b[0m\n\u001b[0m",
      "\u001b[1;32m<ipython-input-6-746b0cd49cc7>\u001b[0m in \u001b[0;36mlog_start\u001b[1;34m(log_file_open, message)\u001b[0m\n\u001b[0;32m     10\u001b[0m     \u001b[0mLogElap\u001b[0m \u001b[1;33m=\u001b[0m \u001b[0mtime\u001b[0m\u001b[1;33m.\u001b[0m\u001b[0mtime\u001b[0m\u001b[1;33m(\u001b[0m\u001b[1;33m)\u001b[0m\u001b[1;33m\u001b[0m\u001b[1;33m\u001b[0m\u001b[0m\n\u001b[0;32m     11\u001b[0m     \u001b[0mLogElap_FULL\u001b[0m \u001b[1;33m=\u001b[0m \u001b[0mtime\u001b[0m\u001b[1;33m.\u001b[0m\u001b[0mtime\u001b[0m\u001b[1;33m(\u001b[0m\u001b[1;33m)\u001b[0m\u001b[1;33m\u001b[0m\u001b[1;33m\u001b[0m\u001b[0m\n\u001b[1;32m---> 12\u001b[1;33m     \u001b[0mlog_file\u001b[0m\u001b[1;33m.\u001b[0m\u001b[0mwrite\u001b[0m\u001b[1;33m(\u001b[0m\u001b[1;34m\"**LOG \"\u001b[0m\u001b[1;33m+\u001b[0m\u001b[0mFC_Auto_Analyser_Version\u001b[0m\u001b[1;33m+\u001b[0m\u001b[1;34m\"** \\n\"\u001b[0m\u001b[1;33m)\u001b[0m\u001b[1;33m\u001b[0m\u001b[1;33m\u001b[0m\u001b[0m\n\u001b[0m\u001b[0;32m     13\u001b[0m     \u001b[0mlog_file\u001b[0m\u001b[1;33m.\u001b[0m\u001b[0mwrite\u001b[0m\u001b[1;33m(\u001b[0m\u001b[0mrepeat_to_length\u001b[0m\u001b[1;33m(\u001b[0m\u001b[1;34m\"-\"\u001b[0m\u001b[1;33m,\u001b[0m\u001b[1;36m80\u001b[0m\u001b[1;33m)\u001b[0m \u001b[1;33m+\u001b[0m \u001b[1;34m\"\\n\"\u001b[0m\u001b[1;33m)\u001b[0m\u001b[1;33m\u001b[0m\u001b[1;33m\u001b[0m\u001b[0m\n\u001b[0;32m     14\u001b[0m     \u001b[0mlog_file\u001b[0m\u001b[1;33m.\u001b[0m\u001b[0mwrite\u001b[0m\u001b[1;33m(\u001b[0m\u001b[0mmessage\u001b[0m  \u001b[1;33m+\u001b[0m \u001b[1;34m\"\\n\"\u001b[0m\u001b[1;33m)\u001b[0m\u001b[1;33m\u001b[0m\u001b[1;33m\u001b[0m\u001b[0m\n",
      "\u001b[1;31mNameError\u001b[0m: name 'FC_Auto_Analyser_Version' is not defined"
     ]
    }
   ],
   "source": [
    "\n",
    "global main_log_file\n",
    "WorkOn = 'XLS_Reader_'+datetime.now().strftime(\"%m%d_%H%M%S\")\n",
    "main_log_file = WorkOn+\".log\" \n",
    "log_start(main_log_file,\"Análise automática de arquivos de dados\")\n"
   ]
  },
  {
   "cell_type": "code",
   "execution_count": null,
   "metadata": {},
   "outputs": [],
   "source": [
    "\n",
    "#global df,ctmp, ctmp_counts, i, x  #apenas para teste, retirar na versão final\n",
    "\n",
    "files = os.listdir(datain)\n",
    "dfx = [i for i in files if 'XLS' in i.upper()] \n",
    "filesToWorkOn = dfx\n",
    "\n",
    "log_write(\"Procurando arquivos em \"+datain)\n",
    "log_write(\"Arquivos tipos xls \"+'{:3d}'.format(len(dfx)))\n",
    "log_write(\"Total              \"+'{:3d}'.format(len(filesToWorkOn))+\"\\n\")\n",
    "\n",
    "del dfx, files\n",
    "filesToWorkOn = sorted(filesToWorkOn) \n",
    "all_files_to_log =\"Arquivos para analisar:\"+ \"\\n\" + repeat_to_length(\" \",30)"
   ]
  },
  {
   "cell_type": "code",
   "execution_count": null,
   "metadata": {},
   "outputs": [],
   "source": [
    "\n",
    "\n",
    "\n",
    "for name in filesToWorkOn:\n",
    "    all_files_to_log = all_files_to_log + name + \"\\n\" + repeat_to_length(\" \",30)\n",
    "\n",
    "log_write(all_files_to_log)\n",
    "\n",
    "for name in filesToWorkOn:\n",
    "    xls_analysis(name)\n",
    "\n",
    "log_close()\n",
    "\n",
    "print(all_files_to_log)\n",
    "# Close #\n",
    "\n",
    "\n",
    "\n",
    "try:\n",
    "    log_write(\"Iniciando análise de \"+file)\n",
    "        \n",
    "    # open the file\n",
    "    if 'xls'in file:\n",
    "        try:\n",
    "            df = pd.read_excel(datain+\"/\"+file)\n",
    "        except Exception as erro:\n",
    "            log_write(\"Erro \"+str(erro))\n",
    "            log_write(\"Abortando analise \"+file+\"\\n\")\n",
    "            return(-1)\n",
    "    else:\n",
    "        log_write(\"Erro identificando xls/csv\")\n",
    "        return(-1)\n",
    "        \n",
    "    parse_file = open(dataout+\"\\\\\"+file+'.txt',\"w+\")\n",
    "    parse_file.write(\"XLS Reader - Delivery Contract\\n\") \n",
    "    parse_file.write(\"Arquivo \"+ file +\"\\n\" ) \n",
    "    parse_file.write(repeat_to_length(\"-\",80) + \"\\n\")\n",
    "\n",
    "    "
   ]
  }
 ],
 "metadata": {
  "kernelspec": {
   "display_name": "Python 3",
   "language": "python",
   "name": "python3"
  },
  "language_info": {
   "codemirror_mode": {
    "name": "ipython",
    "version": 3
   },
   "file_extension": ".py",
   "mimetype": "text/x-python",
   "name": "python",
   "nbconvert_exporter": "python",
   "pygments_lexer": "ipython3",
   "version": "3.7.3"
  }
 },
 "nbformat": 4,
 "nbformat_minor": 4
}
