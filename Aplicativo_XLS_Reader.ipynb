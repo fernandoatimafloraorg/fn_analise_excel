{
 "cells": [
  {
   "cell_type": "markdown",
   "metadata": {},
   "source": [
    "XLS Reader - Delivery Contract"
   ]
  },
  {
   "cell_type": "code",
   "execution_count": 3,
   "metadata": {},
   "outputs": [],
   "source": [
    "\n",
    "#Parâmetros\n",
    "datain    = \".\\data_in_fornecedor\"    #coloque aqui seus arquivos xls ou csv\n",
    "dataout   = \".\\data.out\"   #onde analisador vai gravar os resultados\n",
    "datalog   = \".\\data.log\"   #onde o analisador vai gravar os logs do processamento \n",
    "datatmp   = \".\\data.tmp\"   #arquivos temporários. Será limpo após o processamento\n",
    "\n",
    "max_freq  = 10            #numeros de categorias máximas nos campos texto\n"
   ]
  },
  {
   "cell_type": "code",
   "execution_count": 4,
   "metadata": {},
   "outputs": [],
   "source": [
    "import os\n",
    "import sys\n",
    "import numpy as np\n",
    "import requests\n",
    "import pandas as pd\n",
    "from pandas import ExcelFile \n",
    "from datetime import datetime\n",
    "from datetime import timedelta\n",
    "import time, socket\n",
    "import locale\n",
    "locale.setlocale(locale.LC_ALL, 'en_US.UTF-8')  # Use '' for auto, or force e.g. to 'en_US.UTF-8'\n",
    "import seaborn as sns\n",
    "import matplotlib.pyplot as plt"
   ]
  },
  {
   "cell_type": "code",
   "execution_count": 5,
   "metadata": {},
   "outputs": [
    {
     "name": "stdout",
     "output_type": "stream",
     "text": [
      "XLS Reader Starting\n"
     ]
    }
   ],
   "source": [
    "#Criando diretórios se inexistentes\n",
    "print(\"XLS Reader Starting\")\n",
    "if not os.path.exists(datatmp):\n",
    "    print(\"diretório \"+datatmp+\" criado\")\n",
    "    os.makedirs(datatmp)\n",
    "if not os.path.exists(dataout):\n",
    "    print(\"diretório \"+dataout+\" criado\")\n",
    "    os.makedirs(dataout)\n",
    "if not os.path.exists(datalog):\n",
    "    print(\"diretório \"+datalog+\" criado\")\n",
    "    os.makedirs(datalog)\n",
    "    \n",
    "if not os.path.exists(datain):\n",
    "    print(\"diretório \"+datain+\" não existe\")\n",
    "    quit()\n",
    "    "
   ]
  },
  {
   "cell_type": "code",
   "execution_count": 6,
   "metadata": {},
   "outputs": [],
   "source": [
    "def repeat_to_length(string_to_expand, length):\n",
    "    return (string_to_expand * (int(length/len(string_to_expand))+1))[:length]\n",
    "    \n",
    "def log_start(log_file_open, message):\n",
    "    tmp_computer_name = socket.gethostname()\n",
    "    global log_file ; global log_count; global LogElap; global LogElap_FULL \n",
    "    log_file = open(datalog+\"/\"+log_file_open,\"w+\")\n",
    "    log_count = 1  \n",
    "    now = datetime.now()  \n",
    "    LogElap = time.time()\n",
    "    LogElap_FULL = time.time()\n",
    "    log_file.write(\"**LOG \"+FC_Auto_Analyser_Version+\"** \\n\") \n",
    "    log_file.write(repeat_to_length(\"-\",80) + \"\\n\")\n",
    "    log_file.write(message  + \"\\n\")\n",
    "    log_file.write(repeat_to_length(\"-\",80) + \"\\n\")\n",
    "    log_file.write(os.getcwd() + \"\\n\")\n",
    "    log_file.write(log_file_open + \"\\n\" + \"Running on \" + tmp_computer_name.upper() + \" \\n\")\n",
    "    log_file.write(repeat_to_length(\"-\",80) + \"\\n\")\n",
    "    log_file.write('{:4d}'.format(log_count) + \"  \" + now.strftime(\"%d/%m/%Y %H:%M:%S\") +\n",
    "                  \"     <<<<< Log start >>>>> \\n\\n\")\n",
    "    \n",
    "def log_write(log_message, tela = 0):\n",
    "    global log_count; global LogElap\n",
    "    now = datetime.now()\n",
    "    log_count = log_count + 1\n",
    "    if tela == 1:\n",
    "        print('{:4d}'.format(log_count) + \"  \" + now.strftime(\"%d/%m/%Y %H:%M:%S\") + \n",
    "              \"    \" + log_message + \"\\n\")\n",
    "    log_file.write('{:4d}'.format(log_count) + \"  \" + now.strftime(\"%d/%m/%Y %H:%M:%S\") + \n",
    "              \"     \" + log_message + \"\\n\")\n",
    "\n",
    "    \n",
    "    LogElap = time.time()\n",
    "    \n",
    "def log_close(send_email = False):\n",
    "    global log_count\n",
    "    now = datetime.now()\n",
    "    log_count = log_count + 1\n",
    "    log_file.write(\"\\n\" + '{:4d}'.format(log_count) + \"  \" + now.strftime(\"%d/%m/%Y %H:%M:%S\") +\n",
    "                  \"     <<<<< Log end >>>>> \\n\")\n",
    "    log_file.write(repeat_to_length(\"-\",80) + \"\\n\")\n",
    "    log_file.write(\"Running time total:  \" + convert(time.time() - LogElap_FULL) + \"\\n\")\n",
    "    log_file.write(repeat_to_length(\"-\",80) + \"\\n\")\n",
    "    log_file.write(\"**END\\n\")\n",
    "\n",
    "    log_file.close() \n",
    "    return(0)\n",
    "\n",
    "def convert(seconds): \n",
    "    seconds = seconds % (24 * 3600) \n",
    "    hour = seconds // 3600\n",
    "    seconds %= 3600\n",
    "    minutes = seconds // 60\n",
    "    seconds %= 60\n",
    "    return \"%00d:%02d:%02d\" % (hour, minutes, seconds) "
   ]
  },
  {
   "cell_type": "code",
   "execution_count": null,
   "metadata": {},
   "outputs": [],
   "source": [
    "\n",
    "global main_log_file\n",
    "WorkOn = 'XLS_Reader_'+datetime.now().strftime(\"%m%d_%H%M%S\")\n",
    "main_log_file = WorkOn+\".log\" \n",
    "log_start(main_log_file,\"Análise automática de arquivos de dados\")\n"
   ]
  },
  {
   "cell_type": "code",
   "execution_count": null,
   "metadata": {},
   "outputs": [],
   "source": [
    "\n",
    "def csv_analysis(file):\n",
    "    \n",
    "    global df,ctmp, ctmp_counts, i, x  #apenas para teste, retirar na versão final\n",
    "\n",
    "    try:\n",
    "        log_write(\"Iniciando análise de \"+file)\n",
    "        \n",
    "        # open the file\n",
    "        if 'xls'in file:\n",
    "            try:\n",
    "                df = pd.read_excel(datain+\"/\"+file)\n",
    "            except Exception as erro:\n",
    "                log_write(\"Erro \"+str(erro))\n",
    "                log_write(\"Abortando analise \"+file+\"\\n\")\n",
    "                return(-1)\n",
    "        else:\n",
    "            log_write(\"Erro identificando xls/csv\")\n",
    "            return(-1)\n",
    "        \n",
    "        parse_file = open(dataout+\"\\\\\"+file+'.txt',\"w+\")\n",
    "        parse_file.write(\"XLS Reader - Delivery Contract\\n\") \n",
    "        parse_file.write(\"Arquivo \"+ file +\"\\n\" ) \n",
    "        parse_file.write(repeat_to_length(\"-\",80) + \"\\n\")\n",
    "        "
   ]
  }
 ],
 "metadata": {
  "kernelspec": {
   "display_name": "Python 3",
   "language": "python",
   "name": "python3"
  },
  "language_info": {
   "codemirror_mode": {
    "name": "ipython",
    "version": 3
   },
   "file_extension": ".py",
   "mimetype": "text/x-python",
   "name": "python",
   "nbconvert_exporter": "python",
   "pygments_lexer": "ipython3",
   "version": "3.7.3"
  }
 },
 "nbformat": 4,
 "nbformat_minor": 4
}
